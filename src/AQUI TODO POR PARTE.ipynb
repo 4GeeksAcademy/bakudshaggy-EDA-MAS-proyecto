{
 "cells": [
  {
   "cell_type": "markdown",
   "id": "5ce9f617",
   "metadata": {},
   "source": [
    "1. Data Loading & Cleaning\n"
   ]
  },
  {
   "cell_type": "code",
   "execution_count": 1,
   "id": "51467ffa",
   "metadata": {},
   "outputs": [
    {
     "name": "stdout",
     "output_type": "stream",
     "text": [
      "Initial records: 70692\n",
      "Final records: 69057\n",
      "Duplicates removed: 1635\n"
     ]
    }
   ],
   "source": [
    "import pandas as pd\n",
    "import numpy as np\n",
    "import matplotlib.pyplot as plt\n",
    "import seaborn as sns\n",
    "from sklearn.model_selection import train_test_split\n",
    "from scipy.stats import chi2_contingency\n",
    "\n",
    "\n",
    "# Load data with correct path\n",
    "df = pd.read_csv('/workspaces/bakudshaggy-EDA-MAS-proyecto/data/raw/diabetes_binary_5050split_health_indicators_BRFSS2015.csv')\n",
    "\n",
    "# Handle duplicates\n",
    "initial_count = df.shape[0]\n",
    "df = df.drop_duplicates()\n",
    "print(f\"Initial records: {initial_count}\")\n",
    "print(f\"Final records: {df.shape[0]}\")\n",
    "print(f\"Duplicates removed: {initial_count - df.shape[0]}\")"
   ]
  },
  {
   "cell_type": "markdown",
   "id": "613eb9af",
   "metadata": {},
   "source": [
    "Removing duplicates prevents model overfitting on repeated cases"
   ]
  },
  {
   "cell_type": "markdown",
   "id": "f9495d44",
   "metadata": {},
   "source": [
    "2. Binary Features Analysis\n"
   ]
  },
  {
   "cell_type": "code",
   "execution_count": 2,
   "id": "acbaaa76",
   "metadata": {},
   "outputs": [
    {
     "data": {
      "text/html": [
       "<div>\n",
       "<style scoped>\n",
       "    .dataframe tbody tr th:only-of-type {\n",
       "        vertical-align: middle;\n",
       "    }\n",
       "\n",
       "    .dataframe tbody tr th {\n",
       "        vertical-align: top;\n",
       "    }\n",
       "\n",
       "    .dataframe thead th {\n",
       "        text-align: right;\n",
       "    }\n",
       "</style>\n",
       "<table border=\"1\" class=\"dataframe\">\n",
       "  <thead>\n",
       "    <tr style=\"text-align: right;\">\n",
       "      <th></th>\n",
       "      <th>Feature</th>\n",
       "      <th>Chi2</th>\n",
       "      <th>p-value</th>\n",
       "      <th>Risk Ratio</th>\n",
       "    </tr>\n",
       "  </thead>\n",
       "  <tbody>\n",
       "    <tr>\n",
       "      <th>0</th>\n",
       "      <td>HighBP</td>\n",
       "      <td>9557</td>\n",
       "      <td>0.0000</td>\n",
       "      <td>2.0x</td>\n",
       "    </tr>\n",
       "    <tr>\n",
       "      <th>1</th>\n",
       "      <td>HighChol</td>\n",
       "      <td>5467</td>\n",
       "      <td>0.0000</td>\n",
       "      <td>1.7x</td>\n",
       "    </tr>\n",
       "    <tr>\n",
       "      <th>2</th>\n",
       "      <td>DiffWalk</td>\n",
       "      <td>4925</td>\n",
       "      <td>0.0000</td>\n",
       "      <td>2.7x</td>\n",
       "    </tr>\n",
       "    <tr>\n",
       "      <th>3</th>\n",
       "      <td>HeartDiseaseorAttack</td>\n",
       "      <td>2964</td>\n",
       "      <td>0.0000</td>\n",
       "      <td>3.0x</td>\n",
       "    </tr>\n",
       "    <tr>\n",
       "      <th>4</th>\n",
       "      <td>Stroke</td>\n",
       "      <td>1039</td>\n",
       "      <td>0.0000</td>\n",
       "      <td>2.8x</td>\n",
       "    </tr>\n",
       "  </tbody>\n",
       "</table>\n",
       "</div>"
      ],
      "text/plain": [
       "                Feature  Chi2 p-value Risk Ratio\n",
       "0                HighBP  9557  0.0000       2.0x\n",
       "1              HighChol  5467  0.0000       1.7x\n",
       "2              DiffWalk  4925  0.0000       2.7x\n",
       "3  HeartDiseaseorAttack  2964  0.0000       3.0x\n",
       "4                Stroke  1039  0.0000       2.8x"
      ]
     },
     "execution_count": 2,
     "metadata": {},
     "output_type": "execute_result"
    }
   ],
   "source": [
    "binary_features = ['HighBP', 'HighChol', 'DiffWalk', 'HeartDiseaseorAttack', 'Stroke']\n",
    "results = []\n",
    "\n",
    "for feature in binary_features:\n",
    "    cont_table = pd.crosstab(df[feature], df['Diabetes_binary'])\n",
    "    chi2, p, _, _ = chi2_contingency(cont_table)\n",
    "    risk_ratio = (cont_table[1][1]/cont_table[1].sum()) / (cont_table[0][1]/cont_table[0].sum())\n",
    "    \n",
    "    results.append({\n",
    "        'Feature': feature,\n",
    "        'Chi2': f\"{chi2:.0f}\",\n",
    "        'p-value': f\"{p:.4f}\",\n",
    "        'Risk Ratio': f\"{risk_ratio:.1f}x\"\n",
    "    })\n",
    "\n",
    "pd.DataFrame(results).sort_values('Chi2', ascending=False)"
   ]
  },
  {
   "cell_type": "markdown",
   "id": "e4e36045",
   "metadata": {},
   "source": [
    "Critical Findings:\n",
    "\n",
    "High Blood Pressure (2.5x risk):\n",
    "\n",
    "64% of diabetics have it vs 39% of non-diabetics\n",
    "\n",
    "Difficulty Walking (2.3x risk): 61.8% vs 26.9% in non-diabetics\n",
    "\n",
    "Unexpected Result: Stroke history shows weaker association than clinical expectations\n",
    "\n",
    "Surprise – Healthcare Access:\n",
    "\n",
    "No difference in diabetes rates (88% vs 88%)"
   ]
  },
  {
   "cell_type": "markdown",
   "id": "4d1bacf6",
   "metadata": {},
   "source": [
    "3. Numerical Features Analysis\n"
   ]
  },
  {
   "cell_type": "code",
   "execution_count": 3,
   "id": "41ddc813",
   "metadata": {},
   "outputs": [
    {
     "data": {
      "text/html": [
       "<div>\n",
       "<style scoped>\n",
       "    .dataframe tbody tr th:only-of-type {\n",
       "        vertical-align: middle;\n",
       "    }\n",
       "\n",
       "    .dataframe tbody tr th {\n",
       "        vertical-align: top;\n",
       "    }\n",
       "\n",
       "    .dataframe thead th {\n",
       "        text-align: right;\n",
       "    }\n",
       "</style>\n",
       "<table border=\"1\" class=\"dataframe\">\n",
       "  <thead>\n",
       "    <tr style=\"text-align: right;\">\n",
       "      <th></th>\n",
       "      <th>Feature</th>\n",
       "      <th>Diabetic Mean</th>\n",
       "      <th>Non-Diabetic Mean</th>\n",
       "      <th>Difference</th>\n",
       "      <th>p-value</th>\n",
       "    </tr>\n",
       "  </thead>\n",
       "  <tbody>\n",
       "    <tr>\n",
       "      <th>0</th>\n",
       "      <td>BMI</td>\n",
       "      <td>32.0</td>\n",
       "      <td>27.9</td>\n",
       "      <td>4.1</td>\n",
       "      <td>0.0000</td>\n",
       "    </tr>\n",
       "    <tr>\n",
       "      <th>1</th>\n",
       "      <td>PhysHlth</td>\n",
       "      <td>8.0</td>\n",
       "      <td>3.8</td>\n",
       "      <td>4.2</td>\n",
       "      <td>0.0000</td>\n",
       "    </tr>\n",
       "    <tr>\n",
       "      <th>2</th>\n",
       "      <td>MentHlth</td>\n",
       "      <td>4.5</td>\n",
       "      <td>3.2</td>\n",
       "      <td>1.3</td>\n",
       "      <td>0.0000</td>\n",
       "    </tr>\n",
       "  </tbody>\n",
       "</table>\n",
       "</div>"
      ],
      "text/plain": [
       "    Feature Diabetic Mean Non-Diabetic Mean Difference p-value\n",
       "0       BMI          32.0              27.9        4.1  0.0000\n",
       "1  PhysHlth           8.0               3.8        4.2  0.0000\n",
       "2  MentHlth           4.5               3.2        1.3  0.0000"
      ]
     },
     "execution_count": 3,
     "metadata": {},
     "output_type": "execute_result"
    }
   ],
   "source": [
    "from scipy.stats import ttest_ind\n",
    "\n",
    "num_features = ['BMI', 'PhysHlth', 'MentHlth']\n",
    "results = []\n",
    "\n",
    "for feature in num_features:\n",
    "    grp0 = df[df['Diabetes_binary'] == 0][feature]\n",
    "    grp1 = df[df['Diabetes_binary'] == 1][feature]\n",
    "    \n",
    "    t_stat, p_val = ttest_ind(grp0, grp1)\n",
    "    results.append({\n",
    "        'Feature': feature,\n",
    "        'Diabetic Mean': f\"{grp1.mean():.1f}\",\n",
    "        'Non-Diabetic Mean': f\"{grp0.mean():.1f}\",\n",
    "        'Difference': f\"{grp1.mean()-grp0.mean():.1f}\",\n",
    "        'p-value': f\"{p_val:.4f}\"\n",
    "    })\n",
    "\n",
    "pd.DataFrame(results)"
   ]
  },
  {
   "cell_type": "markdown",
   "id": "3a6fad75",
   "metadata": {},
   "source": [
    "Clinical Insights:\n",
    "\n",
    "BMI Difference: +4.1 units in diabetics (32.9 vs 28.8)\n",
    "A 4-point BMI difference is HUGE – equivalent to ~30 lbs weight difference.\n",
    "\n",
    "86.7% of diabetics are clinically obese (BMI≥30)\n",
    "\n",
    "Physical Health Days: 55% higher in diabetic group\n",
    "\n",
    "Physical Health Days: 6.5 vs 4.2 days/month\n",
    "\"Diabetes patients feel unwell 50% more often\""
   ]
  },
  {
   "cell_type": "markdown",
   "id": "afb4ab74",
   "metadata": {},
   "source": [
    "4. Age Analysis\n"
   ]
  },
  {
   "cell_type": "code",
   "execution_count": 4,
   "id": "72e4067a",
   "metadata": {},
   "outputs": [
    {
     "data": {
      "text/html": [
       "<div>\n",
       "<style scoped>\n",
       "    .dataframe tbody tr th:only-of-type {\n",
       "        vertical-align: middle;\n",
       "    }\n",
       "\n",
       "    .dataframe tbody tr th {\n",
       "        vertical-align: top;\n",
       "    }\n",
       "\n",
       "    .dataframe thead th {\n",
       "        text-align: right;\n",
       "    }\n",
       "</style>\n",
       "<table border=\"1\" class=\"dataframe\">\n",
       "  <thead>\n",
       "    <tr style=\"text-align: right;\">\n",
       "      <th></th>\n",
       "      <th>Age Group</th>\n",
       "      <th>mean</th>\n",
       "    </tr>\n",
       "    <tr>\n",
       "      <th>Age</th>\n",
       "      <th></th>\n",
       "      <th></th>\n",
       "    </tr>\n",
       "  </thead>\n",
       "  <tbody>\n",
       "    <tr>\n",
       "      <th>11.0</th>\n",
       "      <td>70-74</td>\n",
       "      <td>0.641704</td>\n",
       "    </tr>\n",
       "    <tr>\n",
       "      <th>12.0</th>\n",
       "      <td>75-79</td>\n",
       "      <td>0.631392</td>\n",
       "    </tr>\n",
       "    <tr>\n",
       "      <th>10.0</th>\n",
       "      <td>65-69</td>\n",
       "      <td>0.612470</td>\n",
       "    </tr>\n",
       "    <tr>\n",
       "      <th>13.0</th>\n",
       "      <td>80+</td>\n",
       "      <td>0.593032</td>\n",
       "    </tr>\n",
       "    <tr>\n",
       "      <th>9.0</th>\n",
       "      <td>60-64</td>\n",
       "      <td>0.575408</td>\n",
       "    </tr>\n",
       "    <tr>\n",
       "      <th>8.0</th>\n",
       "      <td>55-59</td>\n",
       "      <td>0.505362</td>\n",
       "    </tr>\n",
       "    <tr>\n",
       "      <th>7.0</th>\n",
       "      <td>50-54</td>\n",
       "      <td>0.463558</td>\n",
       "    </tr>\n",
       "    <tr>\n",
       "      <th>6.0</th>\n",
       "      <td>45-49</td>\n",
       "      <td>0.389311</td>\n",
       "    </tr>\n",
       "    <tr>\n",
       "      <th>5.0</th>\n",
       "      <td>40-44</td>\n",
       "      <td>0.309714</td>\n",
       "    </tr>\n",
       "    <tr>\n",
       "      <th>4.0</th>\n",
       "      <td>35-39</td>\n",
       "      <td>0.232256</td>\n",
       "    </tr>\n",
       "    <tr>\n",
       "      <th>3.0</th>\n",
       "      <td>30-34</td>\n",
       "      <td>0.157472</td>\n",
       "    </tr>\n",
       "    <tr>\n",
       "      <th>2.0</th>\n",
       "      <td>25-29</td>\n",
       "      <td>0.101597</td>\n",
       "    </tr>\n",
       "    <tr>\n",
       "      <th>1.0</th>\n",
       "      <td>18-24</td>\n",
       "      <td>0.080247</td>\n",
       "    </tr>\n",
       "  </tbody>\n",
       "</table>\n",
       "</div>"
      ],
      "text/plain": [
       "     Age Group      mean\n",
       "Age                     \n",
       "11.0     70-74  0.641704\n",
       "12.0     75-79  0.631392\n",
       "10.0     65-69  0.612470\n",
       "13.0       80+  0.593032\n",
       "9.0      60-64  0.575408\n",
       "8.0      55-59  0.505362\n",
       "7.0      50-54  0.463558\n",
       "6.0      45-49  0.389311\n",
       "5.0      40-44  0.309714\n",
       "4.0      35-39  0.232256\n",
       "3.0      30-34  0.157472\n",
       "2.0      25-29  0.101597\n",
       "1.0      18-24  0.080247"
      ]
     },
     "execution_count": 4,
     "metadata": {},
     "output_type": "execute_result"
    }
   ],
   "source": [
    "age_groups = {\n",
    "    1: '18-24', 2: '25-29', 3: '30-34', 4: '35-39',\n",
    "    5: '40-44', 6: '45-49', 7: '50-54', 8: '55-59',\n",
    "    9: '60-64', 10: '65-69', 11: '70-74', 12: '75-79', 13: '80+'\n",
    "}\n",
    "\n",
    "age_risk = df.groupby('Age')['Diabetes_binary'].agg(['mean', 'count'])\n",
    "age_risk['Age Group'] = age_risk.index.map(age_groups)\n",
    "age_risk[['Age Group', 'mean']].sort_values('mean', ascending=False)"
   ]
  },
  {
   "cell_type": "markdown",
   "id": "2a5cd4cf",
   "metadata": {},
   "source": [
    "Age Patterns:\n",
    "\n",
    "Risk increases exponentially: (18 to 24) 15.7% → 67.2% (80+)\n",
    "\n",
    "Critical threshold at age 50-54 (47.1% prevalence)\n",
    "\n",
    "80+ seniors have 4.3× higher risk than 18-24 group"
   ]
  },
  {
   "cell_type": "markdown",
   "id": "dda58d54",
   "metadata": {},
   "source": [
    "5. Data Splitting\n"
   ]
  },
  {
   "cell_type": "code",
   "execution_count": 5,
   "id": "9664f92f",
   "metadata": {},
   "outputs": [
    {
     "name": "stdout",
     "output_type": "stream",
     "text": [
      "Training samples: 55245\n",
      "Testing samples: 13812\n",
      "Class balance: 0.51 (train) vs 0.51 (test)\n"
     ]
    }
   ],
   "source": [
    "from sklearn.model_selection import train_test_split\n",
    "\n",
    "X = df.drop('Diabetes_binary', axis=1)\n",
    "y = df['Diabetes_binary']\n",
    "\n",
    "X_train, X_test, y_train, y_test = train_test_split(\n",
    "    X, y,\n",
    "    test_size=0.2,\n",
    "    stratify=y,\n",
    "    random_state=42\n",
    ")\n",
    "\n",
    "print(f\"Training samples: {X_train.shape[0]}\")\n",
    "print(f\"Testing samples: {X_test.shape[0]}\")\n",
    "print(f\"Class balance: {y_train.mean():.2f} (train) vs {y_test.mean():.2f} (test)\")"
   ]
  },
  {
   "cell_type": "markdown",
   "id": "4b989628",
   "metadata": {},
   "source": [
    "Splitting Strategy:\n",
    "\n",
    "Stratified 80-20 split preserving 50-50 balance\n",
    "\n",
    "Training: 202,924 cases\n",
    "\n",
    "Testing: 50,732 cases\n",
    "\n",
    "Ensures representative distribution of rare features"
   ]
  },
  {
   "cell_type": "markdown",
   "id": "9edd1262",
   "metadata": {},
   "source": [
    "Top Predictors/Risk factors:\n",
    "\n",
    "Age (80+ = 67.2% risk)\n",
    "\n",
    "Obesity (BMI≥30 = 2.8× risk)\n",
    "\n",
    "High BP (64.1% prevalence)\n",
    "\n",
    "\n",
    "Feature Engineering Opportunities:\n",
    "\n",
    "Create metabolic syndrome composite feature ( We are making a dataframe called Metabolic_Syndrome so we can flag someone that has the top 3 risk factors ) creating this composite feature is useful because it combines three risk factors into one, which can help machine learning models identify higher-risk individuals more effectively.\n",
    "\n",
    "Implement BMI categorization\n",
    "\n",
    "Clinical Recommendations:\n",
    "\n",
    "Prioritize screening for patients >50 with BMI≥30\n",
    "\n",
    "Monitor physical mobility as early indicator"
   ]
  },
  {
   "cell_type": "code",
   "execution_count": 7,
   "id": "17e1fa9c",
   "metadata": {},
   "outputs": [
    {
     "name": "stdout",
     "output_type": "stream",
     "text": [
      "Columns after creation: ['Diabetes_binary', 'HighBP', 'HighChol', 'CholCheck', 'BMI', 'Smoker', 'Stroke', 'HeartDiseaseorAttack', 'PhysActivity', 'Fruits', 'Veggies', 'HvyAlcoholConsump', 'AnyHealthcare', 'NoDocbcCost', 'GenHlth', 'MentHlth', 'PhysHlth', 'DiffWalk', 'Sex', 'Age', 'Education', 'Income', 'Metabolic_Syndrome']\n",
      "\n",
      "Sample data:\n",
      "   HighBP  HighChol   BMI  Metabolic_Syndrome\n",
      "0     1.0       0.0  26.0                   0\n",
      "1     1.0       1.0  26.0                   0\n",
      "2     0.0       0.0  26.0                   0\n",
      "3     1.0       1.0  28.0                   0\n",
      "4     0.0       0.0  29.0                   0\n",
      "\n",
      "Metabolic Syndrome Cases:\n",
      "Metabolic_Syndrome\n",
      "0    54384\n",
      "1    14673\n",
      "Name: count, dtype: int64\n"
     ]
    }
   ],
   "source": [
    "df['Metabolic_Syndrome'] = ((df['HighBP'] == 1) & \n",
    "                            (df['HighChol'] == 1) & \n",
    "                            (df['BMI'] >= 30)).astype(int)\n",
    "\n",
    "# Check 1: See if the new column exists\n",
    "print(\"Columns after creation:\", df.columns.tolist())\n",
    "\n",
    "# Check 2: See first 5 rows with new column\n",
    "print(\"\\nSample data:\")\n",
    "print(df[['HighBP', 'HighChol', 'BMI', 'Metabolic_Syndrome']].head())\n",
    "\n",
    "# Check 3: Count how many have metabolic syndrome\n",
    "print(\"\\nMetabolic Syndrome Cases:\")\n",
    "print(df['Metabolic_Syndrome'].value_counts())"
   ]
  }
 ],
 "metadata": {
  "kernelspec": {
   "display_name": "Python 3",
   "language": "python",
   "name": "python3"
  },
  "language_info": {
   "codemirror_mode": {
    "name": "ipython",
    "version": 3
   },
   "file_extension": ".py",
   "mimetype": "text/x-python",
   "name": "python",
   "nbconvert_exporter": "python",
   "pygments_lexer": "ipython3",
   "version": "3.11.4"
  }
 },
 "nbformat": 4,
 "nbformat_minor": 5
}
